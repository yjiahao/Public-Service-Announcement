{
  "nbformat": 4,
  "nbformat_minor": 0,
  "metadata": {
    "colab": {
      "provenance": []
    },
    "kernelspec": {
      "name": "python3",
      "display_name": "Python 3"
    },
    "language_info": {
      "name": "python"
    }
  },
  "cells": [
    {
      "cell_type": "code",
      "execution_count": 3,
      "metadata": {
        "colab": {
          "base_uri": "https://localhost:8080/"
        },
        "id": "3MzeNO67bOsA",
        "outputId": "6ed07799-5ce6-457d-f94c-e714646a946c"
      },
      "outputs": [
        {
          "output_type": "stream",
          "name": "stdout",
          "text": [
            "Collecting sentence-transformers\n",
            "  Downloading sentence_transformers-3.2.0-py3-none-any.whl.metadata (10 kB)\n",
            "Requirement already satisfied: transformers<5.0.0,>=4.41.0 in /usr/local/lib/python3.10/dist-packages (from sentence-transformers) (4.44.2)\n",
            "Requirement already satisfied: tqdm in /usr/local/lib/python3.10/dist-packages (from sentence-transformers) (4.66.5)\n",
            "Requirement already satisfied: torch>=1.11.0 in /usr/local/lib/python3.10/dist-packages (from sentence-transformers) (2.4.1+cu121)\n",
            "Requirement already satisfied: scikit-learn in /usr/local/lib/python3.10/dist-packages (from sentence-transformers) (1.5.2)\n",
            "Requirement already satisfied: scipy in /usr/local/lib/python3.10/dist-packages (from sentence-transformers) (1.13.1)\n",
            "Requirement already satisfied: huggingface-hub>=0.20.0 in /usr/local/lib/python3.10/dist-packages (from sentence-transformers) (0.24.7)\n",
            "Requirement already satisfied: Pillow in /usr/local/lib/python3.10/dist-packages (from sentence-transformers) (10.4.0)\n",
            "Requirement already satisfied: filelock in /usr/local/lib/python3.10/dist-packages (from huggingface-hub>=0.20.0->sentence-transformers) (3.16.1)\n",
            "Requirement already satisfied: fsspec>=2023.5.0 in /usr/local/lib/python3.10/dist-packages (from huggingface-hub>=0.20.0->sentence-transformers) (2024.6.1)\n",
            "Requirement already satisfied: packaging>=20.9 in /usr/local/lib/python3.10/dist-packages (from huggingface-hub>=0.20.0->sentence-transformers) (24.1)\n",
            "Requirement already satisfied: pyyaml>=5.1 in /usr/local/lib/python3.10/dist-packages (from huggingface-hub>=0.20.0->sentence-transformers) (6.0.2)\n",
            "Requirement already satisfied: requests in /usr/local/lib/python3.10/dist-packages (from huggingface-hub>=0.20.0->sentence-transformers) (2.32.3)\n",
            "Requirement already satisfied: typing-extensions>=3.7.4.3 in /usr/local/lib/python3.10/dist-packages (from huggingface-hub>=0.20.0->sentence-transformers) (4.12.2)\n",
            "Requirement already satisfied: sympy in /usr/local/lib/python3.10/dist-packages (from torch>=1.11.0->sentence-transformers) (1.13.3)\n",
            "Requirement already satisfied: networkx in /usr/local/lib/python3.10/dist-packages (from torch>=1.11.0->sentence-transformers) (3.3)\n",
            "Requirement already satisfied: jinja2 in /usr/local/lib/python3.10/dist-packages (from torch>=1.11.0->sentence-transformers) (3.1.4)\n",
            "Requirement already satisfied: numpy>=1.17 in /usr/local/lib/python3.10/dist-packages (from transformers<5.0.0,>=4.41.0->sentence-transformers) (1.26.4)\n",
            "Requirement already satisfied: regex!=2019.12.17 in /usr/local/lib/python3.10/dist-packages (from transformers<5.0.0,>=4.41.0->sentence-transformers) (2024.9.11)\n",
            "Requirement already satisfied: safetensors>=0.4.1 in /usr/local/lib/python3.10/dist-packages (from transformers<5.0.0,>=4.41.0->sentence-transformers) (0.4.5)\n",
            "Requirement already satisfied: tokenizers<0.20,>=0.19 in /usr/local/lib/python3.10/dist-packages (from transformers<5.0.0,>=4.41.0->sentence-transformers) (0.19.1)\n",
            "Requirement already satisfied: joblib>=1.2.0 in /usr/local/lib/python3.10/dist-packages (from scikit-learn->sentence-transformers) (1.4.2)\n",
            "Requirement already satisfied: threadpoolctl>=3.1.0 in /usr/local/lib/python3.10/dist-packages (from scikit-learn->sentence-transformers) (3.5.0)\n",
            "Requirement already satisfied: MarkupSafe>=2.0 in /usr/local/lib/python3.10/dist-packages (from jinja2->torch>=1.11.0->sentence-transformers) (2.1.5)\n",
            "Requirement already satisfied: charset-normalizer<4,>=2 in /usr/local/lib/python3.10/dist-packages (from requests->huggingface-hub>=0.20.0->sentence-transformers) (3.3.2)\n",
            "Requirement already satisfied: idna<4,>=2.5 in /usr/local/lib/python3.10/dist-packages (from requests->huggingface-hub>=0.20.0->sentence-transformers) (3.10)\n",
            "Requirement already satisfied: urllib3<3,>=1.21.1 in /usr/local/lib/python3.10/dist-packages (from requests->huggingface-hub>=0.20.0->sentence-transformers) (2.2.3)\n",
            "Requirement already satisfied: certifi>=2017.4.17 in /usr/local/lib/python3.10/dist-packages (from requests->huggingface-hub>=0.20.0->sentence-transformers) (2024.8.30)\n",
            "Requirement already satisfied: mpmath<1.4,>=1.1.0 in /usr/local/lib/python3.10/dist-packages (from sympy->torch>=1.11.0->sentence-transformers) (1.3.0)\n",
            "Downloading sentence_transformers-3.2.0-py3-none-any.whl (255 kB)\n",
            "\u001b[2K   \u001b[90m━━━━━━━━━━━━━━━━━━━━━━━━━━━━━━━━━━━━━━━━\u001b[0m \u001b[32m255.2/255.2 kB\u001b[0m \u001b[31m3.8 MB/s\u001b[0m eta \u001b[36m0:00:00\u001b[0m\n",
            "\u001b[?25hInstalling collected packages: sentence-transformers\n",
            "Successfully installed sentence-transformers-3.2.0\n"
          ]
        }
      ],
      "source": [
        "import json\n",
        "!pip install -U sentence-transformers\n"
      ]
    },
    {
      "cell_type": "code",
      "source": [
        "import pandas as pd"
      ],
      "metadata": {
        "id": "GYFIO030uqRn"
      },
      "execution_count": 10,
      "outputs": []
    },
    {
      "cell_type": "code",
      "source": [
        "from sentence_transformers import SentenceTransformer\n",
        "from sklearn.metrics.pairwise import cosine_similarity\n",
        "\n",
        "# Load the pre-trained model\n",
        "model = SentenceTransformer('all-MiniLM-L6-v2')\n",
        "\n",
        "# Step 2: Load the datasets\n",
        "job_requirements_file = 'new_job_descriptions.csv'\n",
        "\n",
        "data = pd.read_csv('employee_data.csv')\n",
        "\n",
        "# Specify the employee_id you want to filter by\n",
        "employee = 178\n",
        "person_data = data[data.iloc[:, 0] == employee]\n",
        "\n",
        "# Load person skills dataset\n",
        "person_interests = person_data['interest'].tolist()\n",
        "person_skills = person_data['skills'].tolist()\n",
        "person_cert = person_data['certification'].tolist()\n",
        "person_jobhist = person_data['job history'].tolist()\n",
        "person_psa = person_data['PSA courses attended'].tolist()\n",
        "\n",
        "interests_embeddings = model.encode(person_interests)\n",
        "skills_embeddings = model.encode(person_skills)\n",
        "cert_embeddings=model.encode(person_cert)\n",
        "jobhist_embeddings=model.encode(person_jobhist)\n",
        "psa_embeddings=model.encode(person_psa)\n",
        "\n",
        "# Load job requirements dataset\n",
        "job_requirements_data = pd.read_csv(job_requirements_file)\n",
        "job_titles = job_requirements_data['Job Title'].tolist()\n",
        "job_descriptions = job_requirements_data['Job Description'].tolist()\n",
        "job_requirements = job_requirements_data['Requirements'].tolist()\n",
        "\n",
        "# Encode the job descriptions and job requirements for comparison\n",
        "job_descriptions_embeddings = model.encode(job_descriptions)\n",
        "job_requirements_embeddings = model.encode(job_requirements)\n",
        "\n",
        "# Step 2: Combine the embeddings with specified weights\n",
        "weighted_job_embeddings = 0.4 * job_descriptions_embeddings + 0.6 * job_requirements_embeddings\n",
        "weighted_person_embeddings = 0.1 * interests_embeddings + 0.1 * psa_embeddings + 0.2 * skills_embeddings +0.3*cert_embeddings + 0.3*jobhist_embeddings\n",
        "\n",
        "# Step 3: Calculate cosine similarity between weighted person embeddings and weighted job embeddings\n",
        "similarity_matrix = cosine_similarity(weighted_person_embeddings, weighted_job_embeddings)\n",
        "\n",
        "# Step 4: Find the most suitable job for the current employee\n",
        "most_suitable_job_index = similarity_matrix.argmax(axis=1)[0]  # Get the index of the most suitable job\n",
        "\n",
        "# Output the most suitable job for the current employee\n",
        "print(f\"Employee ID: {employee}\")\n",
        "print(f\"Most Suitable Job: {job_titles[most_suitable_job_index]}\")\n",
        "print(f\"Job Description: {job_descriptions[most_suitable_job_index]}\")\n",
        "print(f\"Cosine Similarity Score: {similarity_matrix[0][most_suitable_job_index]:.4f}\\n\")\n"
      ],
      "metadata": {
        "colab": {
          "base_uri": "https://localhost:8080/"
        },
        "id": "GkWvZsoIuleV",
        "outputId": "c33084d5-c4a1-4393-a485-19f6a4d57793"
      },
      "execution_count": 28,
      "outputs": [
        {
          "output_type": "stream",
          "name": "stderr",
          "text": [
            "/usr/local/lib/python3.10/dist-packages/transformers/tokenization_utils_base.py:1601: FutureWarning: `clean_up_tokenization_spaces` was not set. It will be set to `True` by default. This behavior will be depracted in transformers v4.45, and will be then set to `False` by default. For more details check this issue: https://github.com/huggingface/transformers/issues/31884\n",
            "  warnings.warn(\n"
          ]
        },
        {
          "output_type": "stream",
          "name": "stdout",
          "text": [
            "Employee ID: 178\n",
            "Most Suitable Job: Senior Engineer / Engineer (System)\n",
            "Job Description: You will be part of a dynamic team working on continuous improvement of PSA application platform-based systems. Key responsibilities include:\n",
            "\n",
            "managing vendors for day-to-day system support\n",
            "designing and developing system/mobile solutions to enhance business processes and digitalization objectives\n",
            "engaging key stakeholders on process design and optimization, integration with PSA systems and industry partners\n",
            "performing data support to engineers to ensure data quality and integrity for analysis and visualization\n",
            "project management, vendor management and work collaboratively with key stakeholders to ensure quality delivery with corporate governance.\n",
            "Cosine Similarity Score: 0.5342\n",
            "\n"
          ]
        }
      ]
    }
  ]
}